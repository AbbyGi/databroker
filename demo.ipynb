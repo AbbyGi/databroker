{
 "cells": [
  {
   "cell_type": "markdown",
   "metadata": {},
   "source": [
    "# Intake for Bluesky\n",
    "\n",
    "## Setup: Acquire some sample data.\n",
    "\n",
    "For data acquisition (but not for data access!) we assume that we have direct access to MongoDB (or some message queue that has a sink into MongoDB)."
   ]
  },
  {
   "cell_type": "code",
   "execution_count": 1,
   "metadata": {},
   "outputs": [],
   "source": [
    "from bluesky import RunEngine\n",
    "from intake_bluesky import MongoInsertCallback\n",
    "from bluesky.plans import scan\n",
    "from bluesky.preprocessors import SupplementalData\n",
    "from ophyd.sim import motor, det, direct_img, img\n",
    "\n",
    "RE = RunEngine({})\n",
    "sd = SupplementalData(baseline=[motor])\n",
    "RE.preprocessors.append(sd)\n",
    "\n",
    "# This is just a simple callback that does MongoDB insert_one. No databroker.\n",
    "metadatastore_uri = 'mongodb://localhost:27017/test1'\n",
    "assets_uri = 'mongodb://localhost:27017/test1'\n",
    "insert = MongoInsertCallback(metadatastore_uri, assets_uri)\n",
    "RE.subscribe(insert)\n",
    "\n",
    "\n",
    "uid, = RE(scan([det], motor, -1, 1, 20))\n",
    "direct_img_uid, = RE(scan([direct_img], motor, -1, 1, 20))"
   ]
  },
  {
   "cell_type": "markdown",
   "metadata": {},
   "source": [
    "## Open an intake Catalog.\n",
    "\n",
    "We could use intake to access the data _directly_ like this, though we will probably never do so at NSLS-II."
   ]
  },
  {
   "cell_type": "code",
   "execution_count": 2,
   "metadata": {},
   "outputs": [
    {
     "data": {
      "text/plain": [
       "<Intake catalog: mongodb://localhost:27017/test1>"
      ]
     },
     "execution_count": 2,
     "metadata": {},
     "output_type": "execute_result"
    }
   ],
   "source": [
    "from intake_bluesky import MongoMetadataStoreCatalog\n",
    "\n",
    "mds = MongoMetadataStoreCatalog(metadatastore_uri)\n",
    "mds"
   ]
  },
  {
   "cell_type": "markdown",
   "metadata": {},
   "source": [
    "Instead we will access data through an HTTP service. We will start an intake server like this:\n",
    "\n",
    "```\n",
    "intake-server facility_catalog.yml\n",
    "```\n",
    "\n",
    "where `facility_catalog.yml` encodes the MongoDB ``uri`` above, and potentially many such URIs:"
   ]
  },
  {
   "cell_type": "code",
   "execution_count": 3,
   "metadata": {},
   "outputs": [
    {
     "name": "stdout",
     "output_type": "stream",
     "text": [
      "plugins:\n",
      "  source:\n",
      "    - module: intake_bluesky\n",
      "sources:\n",
      "  xyz:\n",
      "    description: Some imaginary beamline\n",
      "    driver: mongo_metadatastore\n",
      "    container: catalog\n",
      "    args:\n",
      "      uri: mongodb://localhost:27017/test1\n",
      "    metadata:\n",
      "      beamline: \"00-ID\"\n"
     ]
    }
   ],
   "source": [
    "%cat facility_catalog.yml"
   ]
  },
  {
   "cell_type": "code",
   "execution_count": 4,
   "metadata": {},
   "outputs": [
    {
     "data": {
      "text/plain": [
       "<Intake catalog: None>"
      ]
     },
     "execution_count": 4,
     "metadata": {},
     "output_type": "execute_result"
    }
   ],
   "source": [
    "import intake\n",
    "\n",
    "facility_catalog = intake.Catalog(\"intake://localhost:5000\", page_size=100)\n",
    "facility_catalog"
   ]
  },
  {
   "cell_type": "markdown",
   "metadata": {},
   "source": [
    "A Catalog contains entries, which we can access by iteration:\n",
    "\n",
    "```\n",
    "for entry in catalog:\n",
    "    ...\n",
    "```\n",
    "\n",
    "or individually by name:\n",
    "\n",
    "```\n",
    "entry = catalog[entry_name]\n",
    "```\n",
    "\n",
    "For small Catalogs, it is convenient to ``list`` their contents."
   ]
  },
  {
   "cell_type": "code",
   "execution_count": 5,
   "metadata": {},
   "outputs": [
    {
     "data": {
      "text/plain": [
       "['xyz']"
      ]
     },
     "execution_count": 5,
     "metadata": {},
     "output_type": "execute_result"
    }
   ],
   "source": [
    "list(facility_catalog)"
   ]
  },
  {
   "cell_type": "markdown",
   "metadata": {},
   "source": [
    "The ``facility_catalog`` contains a catalog for each beamline. Let's access the ``xyz`` entry, which is also a Catalog."
   ]
  },
  {
   "cell_type": "code",
   "execution_count": 6,
   "metadata": {},
   "outputs": [
    {
     "data": {
      "text/plain": [
       "<Intake catalog: xyz>"
      ]
     },
     "execution_count": 6,
     "metadata": {},
     "output_type": "execute_result"
    }
   ],
   "source": [
    "cat = facility_catalog['xyz']()\n",
    "cat"
   ]
  },
  {
   "cell_type": "markdown",
   "metadata": {},
   "source": [
    "Each entry in this Catalog represents one scan. There are too many to list them all. (We could _try_ but it would take a long time and probably run out of memory.)\n",
    "\n",
    "We can find scans of interest in a couple ways.\n",
    "\n",
    "## Progressive Search\n",
    "\n",
    "We can search ``cat`` by passing it a Mongo Query. The result is another Catalog, with a subset of the entries in ``cat``."
   ]
  },
  {
   "cell_type": "code",
   "execution_count": 7,
   "metadata": {},
   "outputs": [
    {
     "data": {
      "text/plain": [
       "<Intake catalog: None>"
      ]
     },
     "execution_count": 7,
     "metadata": {},
     "output_type": "execute_result"
    }
   ],
   "source": [
    "search_results = cat.search({'plan_name': 'scan'})\n",
    "search_results"
   ]
  },
  {
   "cell_type": "markdown",
   "metadata": {},
   "source": [
    "We can progressively serach, generating yet another Catalog."
   ]
  },
  {
   "cell_type": "code",
   "execution_count": 8,
   "metadata": {},
   "outputs": [
    {
     "data": {
      "text/plain": [
       "<Intake catalog: None>"
      ]
     },
     "execution_count": 8,
     "metadata": {},
     "output_type": "execute_result"
    }
   ],
   "source": [
    "import time\n",
    "recent_counts = search_results.search({'time': {'$gt': time.time() - 60 * 60 * 24}})\n",
    "recent_counts"
   ]
  },
  {
   "cell_type": "markdown",
   "metadata": {},
   "source": [
    "Having narrowed the results to a small Catalog, we can list them."
   ]
  },
  {
   "cell_type": "code",
   "execution_count": 9,
   "metadata": {},
   "outputs": [
    {
     "data": {
      "text/plain": [
       "['d6f9d017-da67-4e83-b90f-f9fe519316b2',\n",
       " 'bd588760-0430-4419-b5f0-d013a7f52106',\n",
       " 'c7769cf3-74d7-4a7a-aa6a-365c6a10f152',\n",
       " '32a7709b-35e8-42e2-b523-0de5f732af31',\n",
       " 'cf64f61e-5568-4927-8134-31b4843fbed3',\n",
       " '826a95aa-47cc-4c1e-bc81-31f12ebbade5',\n",
       " '9760b89d-cd94-4211-98c8-be481d8633ac',\n",
       " '3dc9226a-54f3-49f3-9257-0d9d401175e9',\n",
       " 'd1b2ebbc-c528-4f6b-bbd5-4d977eb0d86b',\n",
       " '2495c698-8967-430a-b806-ab9393f2a18a',\n",
       " 'b282b431-f25a-4297-a4f6-c1ed27a420ba',\n",
       " '07357e9e-d40b-409f-adae-be471538f53b',\n",
       " 'ea5b4a16-c22b-4230-8250-5b2ac1c30107',\n",
       " 'f24fea2b-6994-4529-9c80-3696057a58ef',\n",
       " '2e92dd1b-958e-4924-8089-091502a3b2bc',\n",
       " '2b8ef77a-dec6-4b8f-8d3e-0be76d73b0b3',\n",
       " '0fd0d4ad-d87a-4611-a3d5-5b95b8d3df9c',\n",
       " '88247e6f-bf90-4aca-a204-dfb8ad6f1600',\n",
       " '026300f2-b001-4af1-b95b-23c8a0923a52',\n",
       " '5ab10c09-c2b8-4723-a716-f5d4327934dd',\n",
       " '9e3e75c0-b470-40a6-96b4-72080dcf7cbe',\n",
       " '97eb9101-ae36-4ef6-b5e8-460421cbe548',\n",
       " 'be9c60c0-597a-4e56-994e-617253dc1e95',\n",
       " 'eb3ddeb8-9db7-4bd3-9f27-57176a72e409']"
      ]
     },
     "execution_count": 9,
     "metadata": {},
     "output_type": "execute_result"
    }
   ],
   "source": [
    "list(recent_counts)"
   ]
  },
  {
   "cell_type": "markdown",
   "metadata": {},
   "source": [
    "## Random access by unique ID (`uid`), recency, and `scan_id`"
   ]
  },
  {
   "cell_type": "markdown",
   "metadata": {},
   "source": [
    "We can access entries by their unique ID \"name\" as in:"
   ]
  },
  {
   "cell_type": "code",
   "execution_count": 10,
   "metadata": {},
   "outputs": [
    {
     "data": {
      "text/plain": [
       "<Catalog Entry: bd588760-0430-4419-b5f0-d013a7f52106>"
      ]
     },
     "execution_count": 10,
     "metadata": {},
     "output_type": "execute_result"
    }
   ],
   "source": [
    "entry = cat[uid]  # uid we captured above during data acquisition\n",
    "entry"
   ]
  },
  {
   "cell_type": "markdown",
   "metadata": {},
   "source": [
    "We can also access entries by *recency* with this syntactic sugar:"
   ]
  },
  {
   "cell_type": "code",
   "execution_count": 11,
   "metadata": {},
   "outputs": [
    {
     "data": {
      "text/plain": [
       "<Catalog Entry: -1>"
      ]
     },
     "execution_count": 11,
     "metadata": {},
     "output_type": "execute_result"
    }
   ],
   "source": [
    "recent_counts[-1]"
   ]
  },
  {
   "cell_type": "markdown",
   "metadata": {},
   "source": [
    "A positive integer matches the most recent entry with the corresponding ``scan_id`` (not necessarily globally unique!)"
   ]
  },
  {
   "cell_type": "code",
   "execution_count": 12,
   "metadata": {},
   "outputs": [
    {
     "data": {
      "text/plain": [
       "<Catalog Entry: 3>"
      ]
     },
     "execution_count": 12,
     "metadata": {},
     "output_type": "execute_result"
    }
   ],
   "source": [
    "cat[3]"
   ]
  },
  {
   "cell_type": "markdown",
   "metadata": {},
   "source": [
    "## Metadata"
   ]
  },
  {
   "cell_type": "markdown",
   "metadata": {},
   "source": [
    "The entry's metadata is available via ``entry.metadata``. Notice that this includes ``entry.metadata.start`` and ``entry.metadata.stop``, the documents generated at the beginning and end of the corresponding scan."
   ]
  },
  {
   "cell_type": "code",
   "execution_count": 13,
   "metadata": {},
   "outputs": [
    {
     "data": {
      "text/plain": [
       "{}"
      ]
     },
     "execution_count": 13,
     "metadata": {},
     "output_type": "execute_result"
    }
   ],
   "source": [
    "entry.metadata"
   ]
  },
  {
   "cell_type": "markdown",
   "metadata": {},
   "source": [
    "### Accessing Data\n",
    "\n",
    "The Entry corresponding to one scan is itself a Catalog, named for with the `uid`."
   ]
  },
  {
   "cell_type": "code",
   "execution_count": 14,
   "metadata": {},
   "outputs": [
    {
     "data": {
      "text/plain": [
       "<Intake catalog: bd588760-0430-4419-b5f0-d013a7f52106>"
      ]
     },
     "execution_count": 14,
     "metadata": {},
     "output_type": "execute_result"
    }
   ],
   "source": [
    "entry()"
   ]
  },
  {
   "cell_type": "markdown",
   "metadata": {},
   "source": [
    "It has an entry for each stream of data captured during that scan. Typically there is a ``'primary'`` stream and potentially others, but this is just a convention."
   ]
  },
  {
   "cell_type": "code",
   "execution_count": 15,
   "metadata": {},
   "outputs": [
    {
     "data": {
      "text/plain": [
       "['baseline', 'primary']"
      ]
     },
     "execution_count": 15,
     "metadata": {},
     "output_type": "execute_result"
    }
   ],
   "source": [
    "list(entry())"
   ]
  },
  {
   "cell_type": "markdown",
   "metadata": {},
   "source": [
    "We can pull the data from the 'primary' stream all at once:"
   ]
  },
  {
   "cell_type": "code",
   "execution_count": 16,
   "metadata": {},
   "outputs": [
    {
     "data": {
      "text/plain": [
       "<xarray.Dataset>\n",
       "Dimensions:         (time: 20)\n",
       "Coordinates:\n",
       "  * time            (time) float64 1.544e+09 1.544e+09 ... 1.544e+09 1.544e+09\n",
       "Data variables:\n",
       "    det             (time) float64 0.6065 0.6701 0.7322 ... 0.7322 0.6701 0.6065\n",
       "    motor           (time) float64 -1.0 -0.8947 -0.7895 ... 0.7895 0.8947 1.0\n",
       "    motor_setpoint  (time) float64 -1.0 -0.8947 -0.7895 ... 0.7895 0.8947 1.0\n",
       "    seq_num         (time) int64 1 2 3 4 5 6 7 8 9 ... 13 14 15 16 17 18 19 20"
      ]
     },
     "execution_count": 16,
     "metadata": {},
     "output_type": "execute_result"
    }
   ],
   "source": [
    "entry().primary().read()"
   ]
  },
  {
   "cell_type": "markdown",
   "metadata": {},
   "source": [
    "Or lazily, using dask:"
   ]
  },
  {
   "cell_type": "code",
   "execution_count": 17,
   "metadata": {},
   "outputs": [
    {
     "data": {
      "text/plain": [
       "<xarray.Dataset>\n",
       "Dimensions:         (time: 20)\n",
       "Coordinates:\n",
       "  * time            (time) float64 1.544e+09 1.544e+09 ... 1.544e+09 1.544e+09\n",
       "Data variables:\n",
       "    det             (time) float64 dask.array<shape=(20,), chunksize=(20,)>\n",
       "    motor           (time) float64 dask.array<shape=(20,), chunksize=(20,)>\n",
       "    motor_setpoint  (time) float64 dask.array<shape=(20,), chunksize=(20,)>\n",
       "    seq_num         (time) int64 dask.array<shape=(20,), chunksize=(20,)>"
      ]
     },
     "execution_count": 17,
     "metadata": {},
     "output_type": "execute_result"
    }
   ],
   "source": [
    "entry().primary().to_dask()  # an xarray of dask.arrays"
   ]
  },
  {
   "cell_type": "markdown",
   "metadata": {},
   "source": [
    "The above is quite clever. It will use dask to make calls to the server to pull the data when required --- for example, if we convert the data to a ``pandas.DataFrame``."
   ]
  },
  {
   "cell_type": "code",
   "execution_count": 18,
   "metadata": {},
   "outputs": [
    {
     "data": {
      "text/html": [
       "<div>\n",
       "<style scoped>\n",
       "    .dataframe tbody tr th:only-of-type {\n",
       "        vertical-align: middle;\n",
       "    }\n",
       "\n",
       "    .dataframe tbody tr th {\n",
       "        vertical-align: top;\n",
       "    }\n",
       "\n",
       "    .dataframe thead th {\n",
       "        text-align: right;\n",
       "    }\n",
       "</style>\n",
       "<table border=\"1\" class=\"dataframe\">\n",
       "  <thead>\n",
       "    <tr style=\"text-align: right;\">\n",
       "      <th></th>\n",
       "      <th>det</th>\n",
       "      <th>motor</th>\n",
       "      <th>motor_setpoint</th>\n",
       "      <th>seq_num</th>\n",
       "    </tr>\n",
       "    <tr>\n",
       "      <th>time</th>\n",
       "      <th></th>\n",
       "      <th></th>\n",
       "      <th></th>\n",
       "      <th></th>\n",
       "    </tr>\n",
       "  </thead>\n",
       "  <tbody>\n",
       "    <tr>\n",
       "      <th>1.543980e+09</th>\n",
       "      <td>0.606531</td>\n",
       "      <td>-1.000000</td>\n",
       "      <td>-1.000000</td>\n",
       "      <td>1</td>\n",
       "    </tr>\n",
       "    <tr>\n",
       "      <th>1.543980e+09</th>\n",
       "      <td>0.670134</td>\n",
       "      <td>-0.894737</td>\n",
       "      <td>-0.894737</td>\n",
       "      <td>2</td>\n",
       "    </tr>\n",
       "    <tr>\n",
       "      <th>1.543980e+09</th>\n",
       "      <td>0.732249</td>\n",
       "      <td>-0.789474</td>\n",
       "      <td>-0.789474</td>\n",
       "      <td>3</td>\n",
       "    </tr>\n",
       "    <tr>\n",
       "      <th>1.543980e+09</th>\n",
       "      <td>0.791305</td>\n",
       "      <td>-0.684211</td>\n",
       "      <td>-0.684211</td>\n",
       "      <td>4</td>\n",
       "    </tr>\n",
       "    <tr>\n",
       "      <th>1.543980e+09</th>\n",
       "      <td>0.845700</td>\n",
       "      <td>-0.578947</td>\n",
       "      <td>-0.578947</td>\n",
       "      <td>5</td>\n",
       "    </tr>\n",
       "    <tr>\n",
       "      <th>1.543980e+09</th>\n",
       "      <td>0.893876</td>\n",
       "      <td>-0.473684</td>\n",
       "      <td>-0.473684</td>\n",
       "      <td>6</td>\n",
       "    </tr>\n",
       "    <tr>\n",
       "      <th>1.543980e+09</th>\n",
       "      <td>0.934385</td>\n",
       "      <td>-0.368421</td>\n",
       "      <td>-0.368421</td>\n",
       "      <td>7</td>\n",
       "    </tr>\n",
       "    <tr>\n",
       "      <th>1.543980e+09</th>\n",
       "      <td>0.965967</td>\n",
       "      <td>-0.263158</td>\n",
       "      <td>-0.263158</td>\n",
       "      <td>8</td>\n",
       "    </tr>\n",
       "    <tr>\n",
       "      <th>1.543980e+09</th>\n",
       "      <td>0.987612</td>\n",
       "      <td>-0.157895</td>\n",
       "      <td>-0.157895</td>\n",
       "      <td>9</td>\n",
       "    </tr>\n",
       "    <tr>\n",
       "      <th>1.543980e+09</th>\n",
       "      <td>0.998616</td>\n",
       "      <td>-0.052632</td>\n",
       "      <td>-0.052632</td>\n",
       "      <td>10</td>\n",
       "    </tr>\n",
       "    <tr>\n",
       "      <th>1.543980e+09</th>\n",
       "      <td>0.998616</td>\n",
       "      <td>0.052632</td>\n",
       "      <td>0.052632</td>\n",
       "      <td>11</td>\n",
       "    </tr>\n",
       "    <tr>\n",
       "      <th>1.543980e+09</th>\n",
       "      <td>0.987612</td>\n",
       "      <td>0.157895</td>\n",
       "      <td>0.157895</td>\n",
       "      <td>12</td>\n",
       "    </tr>\n",
       "    <tr>\n",
       "      <th>1.543980e+09</th>\n",
       "      <td>0.965967</td>\n",
       "      <td>0.263158</td>\n",
       "      <td>0.263158</td>\n",
       "      <td>13</td>\n",
       "    </tr>\n",
       "    <tr>\n",
       "      <th>1.543980e+09</th>\n",
       "      <td>0.934385</td>\n",
       "      <td>0.368421</td>\n",
       "      <td>0.368421</td>\n",
       "      <td>14</td>\n",
       "    </tr>\n",
       "    <tr>\n",
       "      <th>1.543980e+09</th>\n",
       "      <td>0.893876</td>\n",
       "      <td>0.473684</td>\n",
       "      <td>0.473684</td>\n",
       "      <td>15</td>\n",
       "    </tr>\n",
       "    <tr>\n",
       "      <th>1.543980e+09</th>\n",
       "      <td>0.845700</td>\n",
       "      <td>0.578947</td>\n",
       "      <td>0.578947</td>\n",
       "      <td>16</td>\n",
       "    </tr>\n",
       "    <tr>\n",
       "      <th>1.543980e+09</th>\n",
       "      <td>0.791305</td>\n",
       "      <td>0.684211</td>\n",
       "      <td>0.684211</td>\n",
       "      <td>17</td>\n",
       "    </tr>\n",
       "    <tr>\n",
       "      <th>1.543980e+09</th>\n",
       "      <td>0.732249</td>\n",
       "      <td>0.789474</td>\n",
       "      <td>0.789474</td>\n",
       "      <td>18</td>\n",
       "    </tr>\n",
       "    <tr>\n",
       "      <th>1.543980e+09</th>\n",
       "      <td>0.670134</td>\n",
       "      <td>0.894737</td>\n",
       "      <td>0.894737</td>\n",
       "      <td>19</td>\n",
       "    </tr>\n",
       "    <tr>\n",
       "      <th>1.543980e+09</th>\n",
       "      <td>0.606531</td>\n",
       "      <td>1.000000</td>\n",
       "      <td>1.000000</td>\n",
       "      <td>20</td>\n",
       "    </tr>\n",
       "  </tbody>\n",
       "</table>\n",
       "</div>"
      ],
      "text/plain": [
       "                   det     motor  motor_setpoint  seq_num\n",
       "time                                                     \n",
       "1.543980e+09  0.606531 -1.000000       -1.000000        1\n",
       "1.543980e+09  0.670134 -0.894737       -0.894737        2\n",
       "1.543980e+09  0.732249 -0.789474       -0.789474        3\n",
       "1.543980e+09  0.791305 -0.684211       -0.684211        4\n",
       "1.543980e+09  0.845700 -0.578947       -0.578947        5\n",
       "1.543980e+09  0.893876 -0.473684       -0.473684        6\n",
       "1.543980e+09  0.934385 -0.368421       -0.368421        7\n",
       "1.543980e+09  0.965967 -0.263158       -0.263158        8\n",
       "1.543980e+09  0.987612 -0.157895       -0.157895        9\n",
       "1.543980e+09  0.998616 -0.052632       -0.052632       10\n",
       "1.543980e+09  0.998616  0.052632        0.052632       11\n",
       "1.543980e+09  0.987612  0.157895        0.157895       12\n",
       "1.543980e+09  0.965967  0.263158        0.263158       13\n",
       "1.543980e+09  0.934385  0.368421        0.368421       14\n",
       "1.543980e+09  0.893876  0.473684        0.473684       15\n",
       "1.543980e+09  0.845700  0.578947        0.578947       16\n",
       "1.543980e+09  0.791305  0.684211        0.684211       17\n",
       "1.543980e+09  0.732249  0.789474        0.789474       18\n",
       "1.543980e+09  0.670134  0.894737        0.894737       19\n",
       "1.543980e+09  0.606531  1.000000        1.000000       20"
      ]
     },
     "execution_count": 18,
     "metadata": {},
     "output_type": "execute_result"
    }
   ],
   "source": [
    "entry().primary().to_dask().to_dataframe()"
   ]
  },
  {
   "cell_type": "markdown",
   "metadata": {},
   "source": [
    "We can look at the data from the other stream, 'baseline'."
   ]
  },
  {
   "cell_type": "code",
   "execution_count": 19,
   "metadata": {},
   "outputs": [
    {
     "data": {
      "text/plain": [
       "<xarray.Dataset>\n",
       "Dimensions:         (time: 2)\n",
       "Coordinates:\n",
       "  * time            (time) float64 1.544e+09 1.544e+09\n",
       "Data variables:\n",
       "    motor           (time) float64 0.0 1.0\n",
       "    motor_setpoint  (time) float64 0.0 1.0\n",
       "    seq_num         (time) int64 1 2"
      ]
     },
     "execution_count": 19,
     "metadata": {},
     "output_type": "execute_result"
    }
   ],
   "source": [
    "entry().baseline().read()"
   ]
  },
  {
   "cell_type": "markdown",
   "metadata": {},
   "source": [
    "Or merge all the stream together into one `xarray.Dataset`:"
   ]
  },
  {
   "cell_type": "code",
   "execution_count": 20,
   "metadata": {},
   "outputs": [
    {
     "data": {
      "text/plain": [
       "<xarray.Dataset>\n",
       "Dimensions:         (time: 22)\n",
       "Coordinates:\n",
       "  * time            (time) float64 1.544e+09 1.544e+09 ... 1.544e+09 1.544e+09\n",
       "Data variables:\n",
       "    motor           (time) float64 0.0 -1.0 -0.8947 -0.7895 ... 0.8947 1.0 1.0\n",
       "    motor_setpoint  (time) float64 0.0 -1.0 -0.8947 -0.7895 ... 0.8947 1.0 1.0\n",
       "    seq_num         (time) float64 1.0 1.0 2.0 3.0 4.0 ... 18.0 19.0 20.0 2.0\n",
       "    det             (time) float64 nan 0.6065 0.6701 ... 0.6701 0.6065 nan"
      ]
     },
     "execution_count": 20,
     "metadata": {},
     "output_type": "execute_result"
    }
   ],
   "source": [
    "import xarray\n",
    "\n",
    "xarray.merge(entry()[key].read() for key in entry())"
   ]
  },
  {
   "cell_type": "markdown",
   "metadata": {},
   "source": [
    "which creates a \"block matrix\" sorted on time, clearly visible when cast into a DataFrame:"
   ]
  },
  {
   "cell_type": "code",
   "execution_count": 21,
   "metadata": {},
   "outputs": [
    {
     "data": {
      "text/html": [
       "<div>\n",
       "<style scoped>\n",
       "    .dataframe tbody tr th:only-of-type {\n",
       "        vertical-align: middle;\n",
       "    }\n",
       "\n",
       "    .dataframe tbody tr th {\n",
       "        vertical-align: top;\n",
       "    }\n",
       "\n",
       "    .dataframe thead th {\n",
       "        text-align: right;\n",
       "    }\n",
       "</style>\n",
       "<table border=\"1\" class=\"dataframe\">\n",
       "  <thead>\n",
       "    <tr style=\"text-align: right;\">\n",
       "      <th></th>\n",
       "      <th>motor</th>\n",
       "      <th>motor_setpoint</th>\n",
       "      <th>seq_num</th>\n",
       "      <th>det</th>\n",
       "    </tr>\n",
       "    <tr>\n",
       "      <th>time</th>\n",
       "      <th></th>\n",
       "      <th></th>\n",
       "      <th></th>\n",
       "      <th></th>\n",
       "    </tr>\n",
       "  </thead>\n",
       "  <tbody>\n",
       "    <tr>\n",
       "      <th>1.543980e+09</th>\n",
       "      <td>0.000000</td>\n",
       "      <td>0.000000</td>\n",
       "      <td>1.0</td>\n",
       "      <td>NaN</td>\n",
       "    </tr>\n",
       "    <tr>\n",
       "      <th>1.543980e+09</th>\n",
       "      <td>-1.000000</td>\n",
       "      <td>-1.000000</td>\n",
       "      <td>1.0</td>\n",
       "      <td>0.606531</td>\n",
       "    </tr>\n",
       "    <tr>\n",
       "      <th>1.543980e+09</th>\n",
       "      <td>-0.894737</td>\n",
       "      <td>-0.894737</td>\n",
       "      <td>2.0</td>\n",
       "      <td>0.670134</td>\n",
       "    </tr>\n",
       "    <tr>\n",
       "      <th>1.543980e+09</th>\n",
       "      <td>-0.789474</td>\n",
       "      <td>-0.789474</td>\n",
       "      <td>3.0</td>\n",
       "      <td>0.732249</td>\n",
       "    </tr>\n",
       "    <tr>\n",
       "      <th>1.543980e+09</th>\n",
       "      <td>-0.684211</td>\n",
       "      <td>-0.684211</td>\n",
       "      <td>4.0</td>\n",
       "      <td>0.791305</td>\n",
       "    </tr>\n",
       "    <tr>\n",
       "      <th>1.543980e+09</th>\n",
       "      <td>-0.578947</td>\n",
       "      <td>-0.578947</td>\n",
       "      <td>5.0</td>\n",
       "      <td>0.845700</td>\n",
       "    </tr>\n",
       "    <tr>\n",
       "      <th>1.543980e+09</th>\n",
       "      <td>-0.473684</td>\n",
       "      <td>-0.473684</td>\n",
       "      <td>6.0</td>\n",
       "      <td>0.893876</td>\n",
       "    </tr>\n",
       "    <tr>\n",
       "      <th>1.543980e+09</th>\n",
       "      <td>-0.368421</td>\n",
       "      <td>-0.368421</td>\n",
       "      <td>7.0</td>\n",
       "      <td>0.934385</td>\n",
       "    </tr>\n",
       "    <tr>\n",
       "      <th>1.543980e+09</th>\n",
       "      <td>-0.263158</td>\n",
       "      <td>-0.263158</td>\n",
       "      <td>8.0</td>\n",
       "      <td>0.965967</td>\n",
       "    </tr>\n",
       "    <tr>\n",
       "      <th>1.543980e+09</th>\n",
       "      <td>-0.157895</td>\n",
       "      <td>-0.157895</td>\n",
       "      <td>9.0</td>\n",
       "      <td>0.987612</td>\n",
       "    </tr>\n",
       "    <tr>\n",
       "      <th>1.543980e+09</th>\n",
       "      <td>-0.052632</td>\n",
       "      <td>-0.052632</td>\n",
       "      <td>10.0</td>\n",
       "      <td>0.998616</td>\n",
       "    </tr>\n",
       "    <tr>\n",
       "      <th>1.543980e+09</th>\n",
       "      <td>0.052632</td>\n",
       "      <td>0.052632</td>\n",
       "      <td>11.0</td>\n",
       "      <td>0.998616</td>\n",
       "    </tr>\n",
       "    <tr>\n",
       "      <th>1.543980e+09</th>\n",
       "      <td>0.157895</td>\n",
       "      <td>0.157895</td>\n",
       "      <td>12.0</td>\n",
       "      <td>0.987612</td>\n",
       "    </tr>\n",
       "    <tr>\n",
       "      <th>1.543980e+09</th>\n",
       "      <td>0.263158</td>\n",
       "      <td>0.263158</td>\n",
       "      <td>13.0</td>\n",
       "      <td>0.965967</td>\n",
       "    </tr>\n",
       "    <tr>\n",
       "      <th>1.543980e+09</th>\n",
       "      <td>0.368421</td>\n",
       "      <td>0.368421</td>\n",
       "      <td>14.0</td>\n",
       "      <td>0.934385</td>\n",
       "    </tr>\n",
       "    <tr>\n",
       "      <th>1.543980e+09</th>\n",
       "      <td>0.473684</td>\n",
       "      <td>0.473684</td>\n",
       "      <td>15.0</td>\n",
       "      <td>0.893876</td>\n",
       "    </tr>\n",
       "    <tr>\n",
       "      <th>1.543980e+09</th>\n",
       "      <td>0.578947</td>\n",
       "      <td>0.578947</td>\n",
       "      <td>16.0</td>\n",
       "      <td>0.845700</td>\n",
       "    </tr>\n",
       "    <tr>\n",
       "      <th>1.543980e+09</th>\n",
       "      <td>0.684211</td>\n",
       "      <td>0.684211</td>\n",
       "      <td>17.0</td>\n",
       "      <td>0.791305</td>\n",
       "    </tr>\n",
       "    <tr>\n",
       "      <th>1.543980e+09</th>\n",
       "      <td>0.789474</td>\n",
       "      <td>0.789474</td>\n",
       "      <td>18.0</td>\n",
       "      <td>0.732249</td>\n",
       "    </tr>\n",
       "    <tr>\n",
       "      <th>1.543980e+09</th>\n",
       "      <td>0.894737</td>\n",
       "      <td>0.894737</td>\n",
       "      <td>19.0</td>\n",
       "      <td>0.670134</td>\n",
       "    </tr>\n",
       "    <tr>\n",
       "      <th>1.543980e+09</th>\n",
       "      <td>1.000000</td>\n",
       "      <td>1.000000</td>\n",
       "      <td>20.0</td>\n",
       "      <td>0.606531</td>\n",
       "    </tr>\n",
       "    <tr>\n",
       "      <th>1.543980e+09</th>\n",
       "      <td>1.000000</td>\n",
       "      <td>1.000000</td>\n",
       "      <td>2.0</td>\n",
       "      <td>NaN</td>\n",
       "    </tr>\n",
       "  </tbody>\n",
       "</table>\n",
       "</div>"
      ],
      "text/plain": [
       "                 motor  motor_setpoint  seq_num       det\n",
       "time                                                     \n",
       "1.543980e+09  0.000000        0.000000      1.0       NaN\n",
       "1.543980e+09 -1.000000       -1.000000      1.0  0.606531\n",
       "1.543980e+09 -0.894737       -0.894737      2.0  0.670134\n",
       "1.543980e+09 -0.789474       -0.789474      3.0  0.732249\n",
       "1.543980e+09 -0.684211       -0.684211      4.0  0.791305\n",
       "1.543980e+09 -0.578947       -0.578947      5.0  0.845700\n",
       "1.543980e+09 -0.473684       -0.473684      6.0  0.893876\n",
       "1.543980e+09 -0.368421       -0.368421      7.0  0.934385\n",
       "1.543980e+09 -0.263158       -0.263158      8.0  0.965967\n",
       "1.543980e+09 -0.157895       -0.157895      9.0  0.987612\n",
       "1.543980e+09 -0.052632       -0.052632     10.0  0.998616\n",
       "1.543980e+09  0.052632        0.052632     11.0  0.998616\n",
       "1.543980e+09  0.157895        0.157895     12.0  0.987612\n",
       "1.543980e+09  0.263158        0.263158     13.0  0.965967\n",
       "1.543980e+09  0.368421        0.368421     14.0  0.934385\n",
       "1.543980e+09  0.473684        0.473684     15.0  0.893876\n",
       "1.543980e+09  0.578947        0.578947     16.0  0.845700\n",
       "1.543980e+09  0.684211        0.684211     17.0  0.791305\n",
       "1.543980e+09  0.789474        0.789474     18.0  0.732249\n",
       "1.543980e+09  0.894737        0.894737     19.0  0.670134\n",
       "1.543980e+09  1.000000        1.000000     20.0  0.606531\n",
       "1.543980e+09  1.000000        1.000000      2.0       NaN"
      ]
     },
     "execution_count": 21,
     "metadata": {},
     "output_type": "execute_result"
    }
   ],
   "source": [
    "xarray.merge(entry()[key].read() for key in entry()).to_dataframe()"
   ]
  },
  {
   "cell_type": "markdown",
   "metadata": {},
   "source": [
    "## N-dimensional Data (e.g. images)\n",
    "\n",
    "Image data can sit in an `xarray.Dataset` alongside other data. The `to_dask()` method allows us to fetch it lazily if desired."
   ]
  },
  {
   "cell_type": "code",
   "execution_count": 22,
   "metadata": {},
   "outputs": [
    {
     "data": {
      "text/plain": [
       "<xarray.Dataset>\n",
       "Dimensions:         (dim_0: 10, dim_1: 10, time: 20)\n",
       "Coordinates:\n",
       "  * time            (time) float64 1.544e+09 1.544e+09 ... 1.544e+09 1.544e+09\n",
       "Dimensions without coordinates: dim_0, dim_1\n",
       "Data variables:\n",
       "    img             (time, dim_0, dim_1) float64 1.0 1.0 1.0 1.0 ... 1.0 1.0 1.0\n",
       "    motor           (time) float64 -1.0 -0.8947 -0.7895 ... 0.7895 0.8947 1.0\n",
       "    motor_setpoint  (time) float64 -1.0 -0.8947 -0.7895 ... 0.7895 0.8947 1.0\n",
       "    seq_num         (time) int64 1 2 3 4 5 6 7 8 9 ... 13 14 15 16 17 18 19 20"
      ]
     },
     "execution_count": 22,
     "metadata": {},
     "output_type": "execute_result"
    }
   ],
   "source": [
    "entry = cat[direct_img_uid]  # uid captured during data acquisition above\n",
    "dataset = entry().primary().read()\n",
    "dataset"
   ]
  },
  {
   "cell_type": "code",
   "execution_count": 23,
   "metadata": {},
   "outputs": [
    {
     "data": {
      "text/plain": [
       "<xarray.DataArray 'img' (time: 20, dim_0: 10, dim_1: 10)>\n",
       "array([[[1., 1., ..., 1., 1.],\n",
       "        [1., 1., ..., 1., 1.],\n",
       "        ...,\n",
       "        [1., 1., ..., 1., 1.],\n",
       "        [1., 1., ..., 1., 1.]],\n",
       "\n",
       "       [[1., 1., ..., 1., 1.],\n",
       "        [1., 1., ..., 1., 1.],\n",
       "        ...,\n",
       "        [1., 1., ..., 1., 1.],\n",
       "        [1., 1., ..., 1., 1.]],\n",
       "\n",
       "       ...,\n",
       "\n",
       "       [[1., 1., ..., 1., 1.],\n",
       "        [1., 1., ..., 1., 1.],\n",
       "        ...,\n",
       "        [1., 1., ..., 1., 1.],\n",
       "        [1., 1., ..., 1., 1.]],\n",
       "\n",
       "       [[1., 1., ..., 1., 1.],\n",
       "        [1., 1., ..., 1., 1.],\n",
       "        ...,\n",
       "        [1., 1., ..., 1., 1.],\n",
       "        [1., 1., ..., 1., 1.]]])\n",
       "Coordinates:\n",
       "  * time     (time) float64 1.544e+09 1.544e+09 ... 1.544e+09 1.544e+09\n",
       "Dimensions without coordinates: dim_0, dim_1"
      ]
     },
     "execution_count": 23,
     "metadata": {},
     "output_type": "execute_result"
    }
   ],
   "source": [
    "dataset['img']"
   ]
  },
  {
   "cell_type": "markdown",
   "metadata": {},
   "source": [
    "Do math along named dimensions:"
   ]
  },
  {
   "cell_type": "code",
   "execution_count": 24,
   "metadata": {},
   "outputs": [
    {
     "data": {
      "text/plain": [
       "<xarray.DataArray 'img' (dim_0: 10, dim_1: 10)>\n",
       "array([[20., 20., 20., 20., 20., 20., 20., 20., 20., 20.],\n",
       "       [20., 20., 20., 20., 20., 20., 20., 20., 20., 20.],\n",
       "       [20., 20., 20., 20., 20., 20., 20., 20., 20., 20.],\n",
       "       [20., 20., 20., 20., 20., 20., 20., 20., 20., 20.],\n",
       "       [20., 20., 20., 20., 20., 20., 20., 20., 20., 20.],\n",
       "       [20., 20., 20., 20., 20., 20., 20., 20., 20., 20.],\n",
       "       [20., 20., 20., 20., 20., 20., 20., 20., 20., 20.],\n",
       "       [20., 20., 20., 20., 20., 20., 20., 20., 20., 20.],\n",
       "       [20., 20., 20., 20., 20., 20., 20., 20., 20., 20.],\n",
       "       [20., 20., 20., 20., 20., 20., 20., 20., 20., 20.]])\n",
       "Dimensions without coordinates: dim_0, dim_1"
      ]
     },
     "execution_count": 24,
     "metadata": {},
     "output_type": "execute_result"
    }
   ],
   "source": [
    "dataset['img'].sum('time')"
   ]
  },
  {
   "cell_type": "markdown",
   "metadata": {},
   "source": [
    "Slice along named dimensions:"
   ]
  },
  {
   "cell_type": "code",
   "execution_count": 25,
   "metadata": {},
   "outputs": [
    {
     "data": {
      "text/plain": [
       "<xarray.DataArray 'img' (time: 20, dim_0: 3, dim_1: 5)>\n",
       "array([[[1., 1., ..., 1., 1.],\n",
       "        [1., 1., ..., 1., 1.],\n",
       "        [1., 1., ..., 1., 1.]],\n",
       "\n",
       "       [[1., 1., ..., 1., 1.],\n",
       "        [1., 1., ..., 1., 1.],\n",
       "        [1., 1., ..., 1., 1.]],\n",
       "\n",
       "       ...,\n",
       "\n",
       "       [[1., 1., ..., 1., 1.],\n",
       "        [1., 1., ..., 1., 1.],\n",
       "        [1., 1., ..., 1., 1.]],\n",
       "\n",
       "       [[1., 1., ..., 1., 1.],\n",
       "        [1., 1., ..., 1., 1.],\n",
       "        [1., 1., ..., 1., 1.]]])\n",
       "Coordinates:\n",
       "  * time     (time) float64 1.544e+09 1.544e+09 ... 1.544e+09 1.544e+09\n",
       "Dimensions without coordinates: dim_0, dim_1"
      ]
     },
     "execution_count": 25,
     "metadata": {},
     "output_type": "execute_result"
    }
   ],
   "source": [
    "dataset['img'].sel(dim_0=slice(0, 3), dim_1=slice(5, 10))"
   ]
  }
 ],
 "metadata": {
  "kernelspec": {
   "display_name": "Python 3",
   "language": "python",
   "name": "python3"
  },
  "language_info": {
   "codemirror_mode": {
    "name": "ipython",
    "version": 3
   },
   "file_extension": ".py",
   "mimetype": "text/x-python",
   "name": "python",
   "nbconvert_exporter": "python",
   "pygments_lexer": "ipython3",
   "version": "3.7.1"
  }
 },
 "nbformat": 4,
 "nbformat_minor": 2
}
