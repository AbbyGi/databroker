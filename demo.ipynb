{
 "cells": [
  {
   "cell_type": "markdown",
   "metadata": {},
   "source": [
    "# Intake for Bluesky\n",
    "\n",
    "Intake has a concept of a `Catalog` whose entries may be other Catalogs or a `Datasource` that can be `read()` into a PyData/SciPy data structure, in whole or in chunks, or into its lazy dask-based counterpart.\n",
    "\n",
    "Intake includes:\n",
    "* authentication\n",
    "* caching\n",
    "* an intake server and client\n",
    "* solutions for packaging so that Catalogs can be installable and accessible via import hooks (`from intake import csx_catalog`)\n",
    "\n",
    "The demo below employs intake plugins for access and a simple callback using pymongo directly for insert. It does not import `databroker`.\n",
    "\n",
    "## Acquire some sample data."
   ]
  },
  {
   "cell_type": "code",
   "execution_count": 1,
   "metadata": {},
   "outputs": [],
   "source": [
    "from bluesky import RunEngine\n",
    "from intake_bluesky import MongoInsertCallback\n",
    "from bluesky.plans import scan\n",
    "from bluesky.preprocessors import SupplementalData\n",
    "from ophyd.sim import det, motor\n",
    "\n",
    "RE = RunEngine({})\n",
    "sd = SupplementalData(baseline=[motor])\n",
    "RE.preprocessors.append(sd)\n",
    "\n",
    "# This is just a simple callback that does MongoDB insert_one. No databroker.\n",
    "uri = 'mongodb://localhost:27017/test1'\n",
    "insert = MongoInsertCallback(uri)\n",
    "RE.subscribe(insert)\n",
    "\n",
    "\n",
    "uid, = RE(scan([det], motor, -1, 1, 20))"
   ]
  },
  {
   "cell_type": "markdown",
   "metadata": {},
   "source": [
    "## Access data using intake.\n",
    "\n",
    "Instantiate an intake Catalog aimed at our MongoDB. (This boilerplate code could be made more magical via config files and import hooks; this is the explicit way.)"
   ]
  },
  {
   "cell_type": "code",
   "execution_count": 2,
   "metadata": {},
   "outputs": [],
   "source": [
    "from intake_bluesky import MongoMetadataStoreCatalog\n",
    "\n",
    "mds = MongoMetadataStoreCatalog(uri)"
   ]
  },
  {
   "cell_type": "code",
   "execution_count": 3,
   "metadata": {},
   "outputs": [
    {
     "data": {
      "text/plain": [
       "<Intake catalog: mongodb://localhost:27017/test1>"
      ]
     },
     "execution_count": 3,
     "metadata": {},
     "output_type": "execute_result"
    }
   ],
   "source": [
    "mds"
   ]
  },
  {
   "cell_type": "markdown",
   "metadata": {},
   "source": [
    "Access a Run by `uid`. A Run is also a Catalog. It has special `__repr__`."
   ]
  },
  {
   "cell_type": "code",
   "execution_count": 4,
   "metadata": {},
   "outputs": [
    {
     "data": {
      "text/plain": [
       "<Catalog Entry: daf14422-9b68-4027-9a1f-fefa9a3bc2d8>"
      ]
     },
     "execution_count": 4,
     "metadata": {},
     "output_type": "execute_result"
    }
   ],
   "source": [
    "run = mds[uid]\n",
    "run"
   ]
  },
  {
   "cell_type": "code",
   "execution_count": 5,
   "metadata": {},
   "outputs": [
    {
     "data": {
      "text/plain": [
       "<Intake catalog: Run daf14422...>\n",
       "  2018-11-26 14:43:29.319 -- 2018-11-26 14:43:29.375\n",
       "  Streams:\n",
       "    * baseline\n",
       "    * primary"
      ]
     },
     "execution_count": 5,
     "metadata": {},
     "output_type": "execute_result"
    }
   ],
   "source": [
    "run()"
   ]
  },
  {
   "cell_type": "markdown",
   "metadata": {},
   "source": [
    "Read the data from all the streams in one structure, time-sorted. This is a convenient starting point for interpolation workflows."
   ]
  },
  {
   "cell_type": "code",
   "execution_count": 6,
   "metadata": {},
   "outputs": [
    {
     "data": {
      "text/plain": [
       "<xarray.Dataset>\n",
       "Dimensions:         (time: 22)\n",
       "Coordinates:\n",
       "  * time            (time) float64 1.543e+09 1.543e+09 ... 1.543e+09 1.543e+09\n",
       "Data variables:\n",
       "    motor           (time) float64 0.0 -1.0 -0.8947 -0.7895 ... 0.8947 1.0 1.0\n",
       "    motor_setpoint  (time) float64 0.0 -1.0 -0.8947 -0.7895 ... 0.8947 1.0 1.0\n",
       "    det             (time) float64 nan 0.6065 0.6701 ... 0.6701 0.6065 nan"
      ]
     },
     "execution_count": 6,
     "metadata": {},
     "output_type": "execute_result"
    }
   ],
   "source": [
    "run.read()"
   ]
  },
  {
   "cell_type": "code",
   "execution_count": 7,
   "metadata": {},
   "outputs": [
    {
     "data": {
      "text/html": [
       "<div>\n",
       "<style scoped>\n",
       "    .dataframe tbody tr th:only-of-type {\n",
       "        vertical-align: middle;\n",
       "    }\n",
       "\n",
       "    .dataframe tbody tr th {\n",
       "        vertical-align: top;\n",
       "    }\n",
       "\n",
       "    .dataframe thead th {\n",
       "        text-align: right;\n",
       "    }\n",
       "</style>\n",
       "<table border=\"1\" class=\"dataframe\">\n",
       "  <thead>\n",
       "    <tr style=\"text-align: right;\">\n",
       "      <th></th>\n",
       "      <th>motor</th>\n",
       "      <th>motor_setpoint</th>\n",
       "      <th>det</th>\n",
       "    </tr>\n",
       "    <tr>\n",
       "      <th>time</th>\n",
       "      <th></th>\n",
       "      <th></th>\n",
       "      <th></th>\n",
       "    </tr>\n",
       "  </thead>\n",
       "  <tbody>\n",
       "    <tr>\n",
       "      <th>1.543261e+09</th>\n",
       "      <td>0.000000</td>\n",
       "      <td>0.000000</td>\n",
       "      <td>NaN</td>\n",
       "    </tr>\n",
       "    <tr>\n",
       "      <th>1.543261e+09</th>\n",
       "      <td>-1.000000</td>\n",
       "      <td>-1.000000</td>\n",
       "      <td>0.606531</td>\n",
       "    </tr>\n",
       "    <tr>\n",
       "      <th>1.543261e+09</th>\n",
       "      <td>-0.894737</td>\n",
       "      <td>-0.894737</td>\n",
       "      <td>0.670134</td>\n",
       "    </tr>\n",
       "    <tr>\n",
       "      <th>1.543261e+09</th>\n",
       "      <td>-0.789474</td>\n",
       "      <td>-0.789474</td>\n",
       "      <td>0.732249</td>\n",
       "    </tr>\n",
       "    <tr>\n",
       "      <th>1.543261e+09</th>\n",
       "      <td>-0.684211</td>\n",
       "      <td>-0.684211</td>\n",
       "      <td>0.791305</td>\n",
       "    </tr>\n",
       "  </tbody>\n",
       "</table>\n",
       "</div>"
      ],
      "text/plain": [
       "                 motor  motor_setpoint       det\n",
       "time                                            \n",
       "1.543261e+09  0.000000        0.000000       NaN\n",
       "1.543261e+09 -1.000000       -1.000000  0.606531\n",
       "1.543261e+09 -0.894737       -0.894737  0.670134\n",
       "1.543261e+09 -0.789474       -0.789474  0.732249\n",
       "1.543261e+09 -0.684211       -0.684211  0.791305"
      ]
     },
     "execution_count": 7,
     "metadata": {},
     "output_type": "execute_result"
    }
   ],
   "source": [
    "run.read().to_dataframe().head()"
   ]
  },
  {
   "cell_type": "code",
   "execution_count": 8,
   "metadata": {},
   "outputs": [
    {
     "data": {
      "text/html": [
       "<div>\n",
       "<style scoped>\n",
       "    .dataframe tbody tr th:only-of-type {\n",
       "        vertical-align: middle;\n",
       "    }\n",
       "\n",
       "    .dataframe tbody tr th {\n",
       "        vertical-align: top;\n",
       "    }\n",
       "\n",
       "    .dataframe thead th {\n",
       "        text-align: right;\n",
       "    }\n",
       "</style>\n",
       "<table border=\"1\" class=\"dataframe\">\n",
       "  <thead>\n",
       "    <tr style=\"text-align: right;\">\n",
       "      <th></th>\n",
       "      <th>motor</th>\n",
       "    </tr>\n",
       "    <tr>\n",
       "      <th>time</th>\n",
       "      <th></th>\n",
       "    </tr>\n",
       "  </thead>\n",
       "  <tbody>\n",
       "    <tr>\n",
       "      <th>1.543261e+09</th>\n",
       "      <td>0.000000</td>\n",
       "    </tr>\n",
       "    <tr>\n",
       "      <th>1.543261e+09</th>\n",
       "      <td>-1.000000</td>\n",
       "    </tr>\n",
       "    <tr>\n",
       "      <th>1.543261e+09</th>\n",
       "      <td>-0.894737</td>\n",
       "    </tr>\n",
       "    <tr>\n",
       "      <th>1.543261e+09</th>\n",
       "      <td>-0.789474</td>\n",
       "    </tr>\n",
       "    <tr>\n",
       "      <th>1.543261e+09</th>\n",
       "      <td>-0.684211</td>\n",
       "    </tr>\n",
       "  </tbody>\n",
       "</table>\n",
       "</div>"
      ],
      "text/plain": [
       "                 motor\n",
       "time                  \n",
       "1.543261e+09  0.000000\n",
       "1.543261e+09 -1.000000\n",
       "1.543261e+09 -0.894737\n",
       "1.543261e+09 -0.789474\n",
       "1.543261e+09 -0.684211"
      ]
     },
     "execution_count": 8,
     "metadata": {},
     "output_type": "execute_result"
    }
   ],
   "source": [
    "run.read(include=['motor']).to_dataframe().head()"
   ]
  },
  {
   "cell_type": "code",
   "execution_count": 9,
   "metadata": {},
   "outputs": [
    {
     "data": {
      "text/html": [
       "<div>\n",
       "<style scoped>\n",
       "    .dataframe tbody tr th:only-of-type {\n",
       "        vertical-align: middle;\n",
       "    }\n",
       "\n",
       "    .dataframe tbody tr th {\n",
       "        vertical-align: top;\n",
       "    }\n",
       "\n",
       "    .dataframe thead th {\n",
       "        text-align: right;\n",
       "    }\n",
       "</style>\n",
       "<table border=\"1\" class=\"dataframe\">\n",
       "  <thead>\n",
       "    <tr style=\"text-align: right;\">\n",
       "      <th></th>\n",
       "      <th>motor</th>\n",
       "      <th>det</th>\n",
       "    </tr>\n",
       "    <tr>\n",
       "      <th>time</th>\n",
       "      <th></th>\n",
       "      <th></th>\n",
       "    </tr>\n",
       "  </thead>\n",
       "  <tbody>\n",
       "    <tr>\n",
       "      <th>1.543261e+09</th>\n",
       "      <td>0.000000</td>\n",
       "      <td>NaN</td>\n",
       "    </tr>\n",
       "    <tr>\n",
       "      <th>1.543261e+09</th>\n",
       "      <td>-1.000000</td>\n",
       "      <td>0.606531</td>\n",
       "    </tr>\n",
       "    <tr>\n",
       "      <th>1.543261e+09</th>\n",
       "      <td>-0.894737</td>\n",
       "      <td>0.670134</td>\n",
       "    </tr>\n",
       "    <tr>\n",
       "      <th>1.543261e+09</th>\n",
       "      <td>-0.789474</td>\n",
       "      <td>0.732249</td>\n",
       "    </tr>\n",
       "    <tr>\n",
       "      <th>1.543261e+09</th>\n",
       "      <td>-0.684211</td>\n",
       "      <td>0.791305</td>\n",
       "    </tr>\n",
       "  </tbody>\n",
       "</table>\n",
       "</div>"
      ],
      "text/plain": [
       "                 motor       det\n",
       "time                            \n",
       "1.543261e+09  0.000000       NaN\n",
       "1.543261e+09 -1.000000  0.606531\n",
       "1.543261e+09 -0.894737  0.670134\n",
       "1.543261e+09 -0.789474  0.732249\n",
       "1.543261e+09 -0.684211  0.791305"
      ]
     },
     "execution_count": 9,
     "metadata": {},
     "output_type": "execute_result"
    }
   ],
   "source": [
    "run.read(exclude=['motor_setpoint']).to_dataframe().head()"
   ]
  },
  {
   "cell_type": "markdown",
   "metadata": {},
   "source": [
    "The `mds` catalog has a `serach()` method. It returns... a Catalog! This Catalog will have a subset of the entries from `mds`. This Catalog in turn has a `search()` method, which can be used to further refine the results in yet another Catalog, and so on."
   ]
  },
  {
   "cell_type": "code",
   "execution_count": 10,
   "metadata": {},
   "outputs": [
    {
     "data": {
      "text/plain": [
       "94"
      ]
     },
     "execution_count": 10,
     "metadata": {},
     "output_type": "execute_result"
    }
   ],
   "source": [
    "results = mds.search({'plan_name': 'scan'})\n",
    "len(list(results))"
   ]
  },
  {
   "cell_type": "code",
   "execution_count": 11,
   "metadata": {},
   "outputs": [
    {
     "data": {
      "text/plain": [
       "72"
      ]
     },
     "execution_count": 11,
     "metadata": {},
     "output_type": "execute_result"
    }
   ],
   "source": [
    "import time\n",
    "refined_results = results.search({'time': {'$lt': time.time() - 2 * 60 * 60 * 24}})\n",
    "len(list(refined_results))"
   ]
  },
  {
   "cell_type": "markdown",
   "metadata": {},
   "source": [
    "Whitelist or blacklist fields. (You can't do both at once -- that's a `ValueError`.)"
   ]
  },
  {
   "cell_type": "code",
   "execution_count": 12,
   "metadata": {},
   "outputs": [
    {
     "data": {
      "text/html": [
       "<div>\n",
       "<style scoped>\n",
       "    .dataframe tbody tr th:only-of-type {\n",
       "        vertical-align: middle;\n",
       "    }\n",
       "\n",
       "    .dataframe tbody tr th {\n",
       "        vertical-align: top;\n",
       "    }\n",
       "\n",
       "    .dataframe thead th {\n",
       "        text-align: right;\n",
       "    }\n",
       "</style>\n",
       "<table border=\"1\" class=\"dataframe\">\n",
       "  <thead>\n",
       "    <tr style=\"text-align: right;\">\n",
       "      <th></th>\n",
       "      <th>motor</th>\n",
       "    </tr>\n",
       "    <tr>\n",
       "      <th>time</th>\n",
       "      <th></th>\n",
       "    </tr>\n",
       "  </thead>\n",
       "  <tbody>\n",
       "    <tr>\n",
       "      <th>1.543261e+09</th>\n",
       "      <td>0.000000</td>\n",
       "    </tr>\n",
       "    <tr>\n",
       "      <th>1.543261e+09</th>\n",
       "      <td>-1.000000</td>\n",
       "    </tr>\n",
       "    <tr>\n",
       "      <th>1.543261e+09</th>\n",
       "      <td>-0.894737</td>\n",
       "    </tr>\n",
       "    <tr>\n",
       "      <th>1.543261e+09</th>\n",
       "      <td>-0.789474</td>\n",
       "    </tr>\n",
       "    <tr>\n",
       "      <th>1.543261e+09</th>\n",
       "      <td>-0.684211</td>\n",
       "    </tr>\n",
       "  </tbody>\n",
       "</table>\n",
       "</div>"
      ],
      "text/plain": [
       "                 motor\n",
       "time                  \n",
       "1.543261e+09  0.000000\n",
       "1.543261e+09 -1.000000\n",
       "1.543261e+09 -0.894737\n",
       "1.543261e+09 -0.789474\n",
       "1.543261e+09 -0.684211"
      ]
     },
     "execution_count": 12,
     "metadata": {},
     "output_type": "execute_result"
    }
   ],
   "source": [
    "run.read(include=['motor']).to_dataframe().head()"
   ]
  },
  {
   "cell_type": "code",
   "execution_count": 13,
   "metadata": {},
   "outputs": [
    {
     "data": {
      "text/html": [
       "<div>\n",
       "<style scoped>\n",
       "    .dataframe tbody tr th:only-of-type {\n",
       "        vertical-align: middle;\n",
       "    }\n",
       "\n",
       "    .dataframe tbody tr th {\n",
       "        vertical-align: top;\n",
       "    }\n",
       "\n",
       "    .dataframe thead th {\n",
       "        text-align: right;\n",
       "    }\n",
       "</style>\n",
       "<table border=\"1\" class=\"dataframe\">\n",
       "  <thead>\n",
       "    <tr style=\"text-align: right;\">\n",
       "      <th></th>\n",
       "      <th>motor</th>\n",
       "      <th>det</th>\n",
       "    </tr>\n",
       "    <tr>\n",
       "      <th>time</th>\n",
       "      <th></th>\n",
       "      <th></th>\n",
       "    </tr>\n",
       "  </thead>\n",
       "  <tbody>\n",
       "    <tr>\n",
       "      <th>1.543261e+09</th>\n",
       "      <td>0.000000</td>\n",
       "      <td>NaN</td>\n",
       "    </tr>\n",
       "    <tr>\n",
       "      <th>1.543261e+09</th>\n",
       "      <td>-1.000000</td>\n",
       "      <td>0.606531</td>\n",
       "    </tr>\n",
       "    <tr>\n",
       "      <th>1.543261e+09</th>\n",
       "      <td>-0.894737</td>\n",
       "      <td>0.670134</td>\n",
       "    </tr>\n",
       "    <tr>\n",
       "      <th>1.543261e+09</th>\n",
       "      <td>-0.789474</td>\n",
       "      <td>0.732249</td>\n",
       "    </tr>\n",
       "    <tr>\n",
       "      <th>1.543261e+09</th>\n",
       "      <td>-0.684211</td>\n",
       "      <td>0.791305</td>\n",
       "    </tr>\n",
       "  </tbody>\n",
       "</table>\n",
       "</div>"
      ],
      "text/plain": [
       "                 motor       det\n",
       "time                            \n",
       "1.543261e+09  0.000000       NaN\n",
       "1.543261e+09 -1.000000  0.606531\n",
       "1.543261e+09 -0.894737  0.670134\n",
       "1.543261e+09 -0.789474  0.732249\n",
       "1.543261e+09 -0.684211  0.791305"
      ]
     },
     "execution_count": 13,
     "metadata": {},
     "output_type": "execute_result"
    }
   ],
   "source": [
    "run.read(exclude=['motor_setpoint']).to_dataframe().head()"
   ]
  },
  {
   "cell_type": "markdown",
   "metadata": {},
   "source": [
    "Remember that `run` is a `Catalog`. Its entries are the Streams. We can read them individually."
   ]
  },
  {
   "cell_type": "code",
   "execution_count": 15,
   "metadata": {},
   "outputs": [
    {
     "data": {
      "text/plain": [
       "['baseline', 'primary']"
      ]
     },
     "execution_count": 15,
     "metadata": {},
     "output_type": "execute_result"
    }
   ],
   "source": [
    "list(run())"
   ]
  },
  {
   "cell_type": "code",
   "execution_count": 17,
   "metadata": {},
   "outputs": [
    {
     "data": {
      "text/plain": [
       "<Intake catalog: Stream 'primary' from Run daf14422...>"
      ]
     },
     "execution_count": 17,
     "metadata": {},
     "output_type": "execute_result"
    }
   ],
   "source": [
    "run()['primary']"
   ]
  },
  {
   "cell_type": "markdown",
   "metadata": {},
   "source": [
    "Same as pandas DataFrame columns, dot access works as well unless the stream name collides with an existing attribute. Tab-complete works as well."
   ]
  },
  {
   "cell_type": "code",
   "execution_count": 18,
   "metadata": {},
   "outputs": [
    {
     "data": {
      "text/plain": [
       "<Intake catalog: Stream 'primary' from Run daf14422...>"
      ]
     },
     "execution_count": 18,
     "metadata": {},
     "output_type": "execute_result"
    }
   ],
   "source": [
    "run.primary"
   ]
  },
  {
   "cell_type": "markdown",
   "metadata": {},
   "source": [
    "We can read the data all at once:"
   ]
  },
  {
   "cell_type": "code",
   "execution_count": 19,
   "metadata": {},
   "outputs": [
    {
     "data": {
      "text/html": [
       "<div>\n",
       "<style scoped>\n",
       "    .dataframe tbody tr th:only-of-type {\n",
       "        vertical-align: middle;\n",
       "    }\n",
       "\n",
       "    .dataframe tbody tr th {\n",
       "        vertical-align: top;\n",
       "    }\n",
       "\n",
       "    .dataframe thead th {\n",
       "        text-align: right;\n",
       "    }\n",
       "</style>\n",
       "<table border=\"1\" class=\"dataframe\">\n",
       "  <thead>\n",
       "    <tr style=\"text-align: right;\">\n",
       "      <th></th>\n",
       "      <th>det</th>\n",
       "      <th>motor</th>\n",
       "      <th>motor_setpoint</th>\n",
       "    </tr>\n",
       "    <tr>\n",
       "      <th>time</th>\n",
       "      <th></th>\n",
       "      <th></th>\n",
       "      <th></th>\n",
       "    </tr>\n",
       "  </thead>\n",
       "  <tbody>\n",
       "    <tr>\n",
       "      <th>1.543261e+09</th>\n",
       "      <td>0.606531</td>\n",
       "      <td>-1.000000</td>\n",
       "      <td>-1.000000</td>\n",
       "    </tr>\n",
       "    <tr>\n",
       "      <th>1.543261e+09</th>\n",
       "      <td>0.670134</td>\n",
       "      <td>-0.894737</td>\n",
       "      <td>-0.894737</td>\n",
       "    </tr>\n",
       "    <tr>\n",
       "      <th>1.543261e+09</th>\n",
       "      <td>0.732249</td>\n",
       "      <td>-0.789474</td>\n",
       "      <td>-0.789474</td>\n",
       "    </tr>\n",
       "    <tr>\n",
       "      <th>1.543261e+09</th>\n",
       "      <td>0.791305</td>\n",
       "      <td>-0.684211</td>\n",
       "      <td>-0.684211</td>\n",
       "    </tr>\n",
       "    <tr>\n",
       "      <th>1.543261e+09</th>\n",
       "      <td>0.845700</td>\n",
       "      <td>-0.578947</td>\n",
       "      <td>-0.578947</td>\n",
       "    </tr>\n",
       "  </tbody>\n",
       "</table>\n",
       "</div>"
      ],
      "text/plain": [
       "                   det     motor  motor_setpoint\n",
       "time                                            \n",
       "1.543261e+09  0.606531 -1.000000       -1.000000\n",
       "1.543261e+09  0.670134 -0.894737       -0.894737\n",
       "1.543261e+09  0.732249 -0.789474       -0.789474\n",
       "1.543261e+09  0.791305 -0.684211       -0.684211\n",
       "1.543261e+09  0.845700 -0.578947       -0.578947"
      ]
     },
     "execution_count": 19,
     "metadata": {},
     "output_type": "execute_result"
    }
   ],
   "source": [
    "run.primary.read().to_dataframe().head()"
   ]
  },
  {
   "cell_type": "markdown",
   "metadata": {},
   "source": [
    "Or access a slice (along the Event axis, potentially along other axes in the future):"
   ]
  },
  {
   "cell_type": "code",
   "execution_count": 20,
   "metadata": {},
   "outputs": [
    {
     "data": {
      "text/html": [
       "<div>\n",
       "<style scoped>\n",
       "    .dataframe tbody tr th:only-of-type {\n",
       "        vertical-align: middle;\n",
       "    }\n",
       "\n",
       "    .dataframe tbody tr th {\n",
       "        vertical-align: top;\n",
       "    }\n",
       "\n",
       "    .dataframe thead th {\n",
       "        text-align: right;\n",
       "    }\n",
       "</style>\n",
       "<table border=\"1\" class=\"dataframe\">\n",
       "  <thead>\n",
       "    <tr style=\"text-align: right;\">\n",
       "      <th></th>\n",
       "      <th>det</th>\n",
       "      <th>motor</th>\n",
       "      <th>motor_setpoint</th>\n",
       "    </tr>\n",
       "    <tr>\n",
       "      <th>time</th>\n",
       "      <th></th>\n",
       "      <th></th>\n",
       "      <th></th>\n",
       "    </tr>\n",
       "  </thead>\n",
       "  <tbody>\n",
       "    <tr>\n",
       "      <th>1.543261e+09</th>\n",
       "      <td>0.934385</td>\n",
       "      <td>-0.368421</td>\n",
       "      <td>-0.368421</td>\n",
       "    </tr>\n",
       "    <tr>\n",
       "      <th>1.543261e+09</th>\n",
       "      <td>0.965967</td>\n",
       "      <td>-0.263158</td>\n",
       "      <td>-0.263158</td>\n",
       "    </tr>\n",
       "    <tr>\n",
       "      <th>1.543261e+09</th>\n",
       "      <td>0.987612</td>\n",
       "      <td>-0.157895</td>\n",
       "      <td>-0.157895</td>\n",
       "    </tr>\n",
       "    <tr>\n",
       "      <th>1.543261e+09</th>\n",
       "      <td>0.998616</td>\n",
       "      <td>-0.052632</td>\n",
       "      <td>-0.052632</td>\n",
       "    </tr>\n",
       "    <tr>\n",
       "      <th>1.543261e+09</th>\n",
       "      <td>0.998616</td>\n",
       "      <td>0.052632</td>\n",
       "      <td>0.052632</td>\n",
       "    </tr>\n",
       "    <tr>\n",
       "      <th>1.543261e+09</th>\n",
       "      <td>0.987612</td>\n",
       "      <td>0.157895</td>\n",
       "      <td>0.157895</td>\n",
       "    </tr>\n",
       "  </tbody>\n",
       "</table>\n",
       "</div>"
      ],
      "text/plain": [
       "                   det     motor  motor_setpoint\n",
       "time                                            \n",
       "1.543261e+09  0.934385 -0.368421       -0.368421\n",
       "1.543261e+09  0.965967 -0.263158       -0.263158\n",
       "1.543261e+09  0.987612 -0.157895       -0.157895\n",
       "1.543261e+09  0.998616 -0.052632       -0.052632\n",
       "1.543261e+09  0.998616  0.052632        0.052632\n",
       "1.543261e+09  0.987612  0.157895        0.157895"
      ]
     },
     "execution_count": 20,
     "metadata": {},
     "output_type": "execute_result"
    }
   ],
   "source": [
    "run.primary.read_slice(slice(7, 13)).to_dataframe()"
   ]
  },
  {
   "cell_type": "markdown",
   "metadata": {},
   "source": [
    "We can also read the data as a generator of chunks. The chunk size is some default provided by the `Catalog`, but it is optionally configurable."
   ]
  },
  {
   "cell_type": "code",
   "execution_count": 21,
   "metadata": {},
   "outputs": [
    {
     "name": "stdout",
     "output_type": "stream",
     "text": [
      "                   det     motor  motor_setpoint\n",
      "time                                            \n",
      "1.543261e+09  0.606531 -1.000000       -1.000000\n",
      "1.543261e+09  0.670134 -0.894737       -0.894737\n",
      "1.543261e+09  0.732249 -0.789474       -0.789474\n",
      "1.543261e+09  0.791305 -0.684211       -0.684211\n",
      "1.543261e+09  0.845700 -0.578947       -0.578947\n",
      "1.543261e+09  0.893876 -0.473684       -0.473684\n",
      "1.543261e+09  0.934385 -0.368421       -0.368421\n",
      "1.543261e+09  0.965967 -0.263158       -0.263158\n",
      "1.543261e+09  0.987612 -0.157895       -0.157895\n",
      "1.543261e+09  0.998616 -0.052632       -0.052632\n",
      "                   det     motor  motor_setpoint\n",
      "time                                            \n",
      "1.543261e+09  0.998616  0.052632        0.052632\n",
      "1.543261e+09  0.987612  0.157895        0.157895\n",
      "1.543261e+09  0.965967  0.263158        0.263158\n",
      "1.543261e+09  0.934385  0.368421        0.368421\n",
      "1.543261e+09  0.893876  0.473684        0.473684\n",
      "1.543261e+09  0.845700  0.578947        0.578947\n",
      "1.543261e+09  0.791305  0.684211        0.684211\n",
      "1.543261e+09  0.732249  0.789474        0.789474\n",
      "1.543261e+09  0.670134  0.894737        0.894737\n",
      "1.543261e+09  0.606531  1.000000        1.000000\n"
     ]
    }
   ],
   "source": [
    "for chunk in run.primary.read_chunked():\n",
    "    print(chunk.to_dataframe())"
   ]
  },
  {
   "cell_type": "code",
   "execution_count": 22,
   "metadata": {},
   "outputs": [
    {
     "name": "stdout",
     "output_type": "stream",
     "text": [
      "                   det     motor  motor_setpoint\n",
      "time                                            \n",
      "1.543261e+09  0.606531 -1.000000       -1.000000\n",
      "1.543261e+09  0.670134 -0.894737       -0.894737\n",
      "1.543261e+09  0.732249 -0.789474       -0.789474\n",
      "                   det     motor  motor_setpoint\n",
      "time                                            \n",
      "1.543261e+09  0.791305 -0.684211       -0.684211\n",
      "1.543261e+09  0.845700 -0.578947       -0.578947\n",
      "1.543261e+09  0.893876 -0.473684       -0.473684\n",
      "                   det     motor  motor_setpoint\n",
      "time                                            \n",
      "1.543261e+09  0.934385 -0.368421       -0.368421\n",
      "1.543261e+09  0.965967 -0.263158       -0.263158\n",
      "1.543261e+09  0.987612 -0.157895       -0.157895\n",
      "                   det     motor  motor_setpoint\n",
      "time                                            \n",
      "1.543261e+09  0.998616 -0.052632       -0.052632\n",
      "1.543261e+09  0.998616  0.052632        0.052632\n",
      "1.543261e+09  0.987612  0.157895        0.157895\n",
      "                   det     motor  motor_setpoint\n",
      "time                                            \n",
      "1.543261e+09  0.965967  0.263158        0.263158\n",
      "1.543261e+09  0.934385  0.368421        0.368421\n",
      "1.543261e+09  0.893876  0.473684        0.473684\n",
      "                   det     motor  motor_setpoint\n",
      "time                                            \n",
      "1.543261e+09  0.845700  0.578947        0.578947\n",
      "1.543261e+09  0.791305  0.684211        0.684211\n",
      "1.543261e+09  0.732249  0.789474        0.789474\n",
      "                   det     motor  motor_setpoint\n",
      "time                                            \n",
      "1.543261e+09  0.670134  0.894737        0.894737\n",
      "1.543261e+09  0.606531  1.000000        1.000000\n"
     ]
    }
   ],
   "source": [
    "for chunk in run.primary.read_chunked(3):\n",
    "    print(chunk.to_dataframe())"
   ]
  },
  {
   "cell_type": "markdown",
   "metadata": {},
   "source": [
    "The stream is *also* a Catalog. Its entries are fields a.k.a data keys a.k.a. columns."
   ]
  },
  {
   "cell_type": "code",
   "execution_count": 23,
   "metadata": {},
   "outputs": [
    {
     "data": {
      "text/plain": [
       "['det', 'motor', 'motor_setpoint']"
      ]
     },
     "execution_count": 23,
     "metadata": {},
     "output_type": "execute_result"
    }
   ],
   "source": [
    "list(run.primary)"
   ]
  },
  {
   "cell_type": "code",
   "execution_count": 24,
   "metadata": {},
   "outputs": [
    {
     "data": {
      "text/plain": [
       "<Intake datasource: Field 'det' of Stream 'primary' from Run daf14422...>"
      ]
     },
     "execution_count": 24,
     "metadata": {},
     "output_type": "execute_result"
    }
   ],
   "source": [
    "run.primary.det"
   ]
  },
  {
   "cell_type": "markdown",
   "metadata": {},
   "source": [
    "The same methods --- `read()`, `read_slice()`, `read_chunked()` --- apply. They can typically return simpler data structures because the data they represent is more homogeneous."
   ]
  },
  {
   "cell_type": "code",
   "execution_count": 25,
   "metadata": {},
   "outputs": [
    {
     "data": {
      "text/html": [
       "<div>\n",
       "<style scoped>\n",
       "    .dataframe tbody tr th:only-of-type {\n",
       "        vertical-align: middle;\n",
       "    }\n",
       "\n",
       "    .dataframe tbody tr th {\n",
       "        vertical-align: top;\n",
       "    }\n",
       "\n",
       "    .dataframe thead th {\n",
       "        text-align: right;\n",
       "    }\n",
       "</style>\n",
       "<table border=\"1\" class=\"dataframe\">\n",
       "  <thead>\n",
       "    <tr style=\"text-align: right;\">\n",
       "      <th></th>\n",
       "      <th>det</th>\n",
       "    </tr>\n",
       "    <tr>\n",
       "      <th>time</th>\n",
       "      <th></th>\n",
       "    </tr>\n",
       "  </thead>\n",
       "  <tbody>\n",
       "    <tr>\n",
       "      <th>1.543261e+09</th>\n",
       "      <td>0.606531</td>\n",
       "    </tr>\n",
       "    <tr>\n",
       "      <th>1.543261e+09</th>\n",
       "      <td>0.670134</td>\n",
       "    </tr>\n",
       "    <tr>\n",
       "      <th>1.543261e+09</th>\n",
       "      <td>0.732249</td>\n",
       "    </tr>\n",
       "    <tr>\n",
       "      <th>1.543261e+09</th>\n",
       "      <td>0.791305</td>\n",
       "    </tr>\n",
       "    <tr>\n",
       "      <th>1.543261e+09</th>\n",
       "      <td>0.845700</td>\n",
       "    </tr>\n",
       "  </tbody>\n",
       "</table>\n",
       "</div>"
      ],
      "text/plain": [
       "                   det\n",
       "time                  \n",
       "1.543261e+09  0.606531\n",
       "1.543261e+09  0.670134\n",
       "1.543261e+09  0.732249\n",
       "1.543261e+09  0.791305\n",
       "1.543261e+09  0.845700"
      ]
     },
     "execution_count": 25,
     "metadata": {},
     "output_type": "execute_result"
    }
   ],
   "source": [
    "run.primary.det.read().to_dataframe().head()"
   ]
  },
  {
   "cell_type": "code",
   "execution_count": null,
   "metadata": {},
   "outputs": [],
   "source": []
  }
 ],
 "metadata": {
  "kernelspec": {
   "display_name": "Python 3",
   "language": "python",
   "name": "python3"
  },
  "language_info": {
   "codemirror_mode": {
    "name": "ipython",
    "version": 3
   },
   "file_extension": ".py",
   "mimetype": "text/x-python",
   "name": "python",
   "nbconvert_exporter": "python",
   "pygments_lexer": "ipython3",
   "version": "3.7.1"
  }
 },
 "nbformat": 4,
 "nbformat_minor": 2
}
