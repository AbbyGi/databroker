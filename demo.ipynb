{
 "cells": [
  {
   "cell_type": "markdown",
   "metadata": {},
   "source": [
    "# Intake for Bluesky\n",
    "\n",
    "## Acquire some sample data.\n",
    "\n",
    "For data acquisition (but not for data access!) we assume that we have direct access to MongoDB (or some message queue that has a sink into MongoDB)."
   ]
  },
  {
   "cell_type": "code",
   "execution_count": 1,
   "metadata": {},
   "outputs": [],
   "source": [
    "from bluesky import RunEngine\n",
    "from intake_bluesky import MongoInsertCallback\n",
    "from bluesky.plans import scan\n",
    "from bluesky.preprocessors import SupplementalData\n",
    "from ophyd.sim import det, motor\n",
    "\n",
    "RE = RunEngine({})\n",
    "sd = SupplementalData(baseline=[motor])\n",
    "RE.preprocessors.append(sd)\n",
    "\n",
    "# This is just a simple callback that does MongoDB insert_one. No databroker.\n",
    "uri = 'mongodb://localhost:27017/test1'\n",
    "insert = MongoInsertCallback(uri)\n",
    "RE.subscribe(insert)\n",
    "\n",
    "\n",
    "uid, = RE(scan([det], motor, -1, 1, 20))"
   ]
  },
  {
   "cell_type": "markdown",
   "metadata": {},
   "source": [
    "## Access data using intake.\n",
    "\n",
    "We could use intake to access the data _directly_ like this, though we will probably never do so at NSLS-II."
   ]
  },
  {
   "cell_type": "code",
   "execution_count": 2,
   "metadata": {},
   "outputs": [],
   "source": [
    "from intake_bluesky import MongoMetadataStoreCatalog\n",
    "\n",
    "mds = MongoMetadataStoreCatalog(uri)"
   ]
  },
  {
   "cell_type": "markdown",
   "metadata": {},
   "source": [
    "Instead we will access data through an HTTP service. We will start an intake server like this:\n",
    "\n",
    "```\n",
    "intake-server facility_catalog.yml\n",
    "```\n",
    "\n",
    "where `facility_catalog.yml` encodes the MongoDB ``uri`` above, and potentially many such URIs."
   ]
  },
  {
   "cell_type": "code",
   "execution_count": 3,
   "metadata": {},
   "outputs": [
    {
     "data": {
      "text/plain": [
       "<Intake catalog: None>"
      ]
     },
     "execution_count": 3,
     "metadata": {},
     "output_type": "execute_result"
    }
   ],
   "source": [
    "import intake\n",
    "\n",
    "facility_catalog = intake.Catalog(\"intake://localhost:5000\", page_size=100)\n",
    "facility_catalog"
   ]
  },
  {
   "cell_type": "markdown",
   "metadata": {},
   "source": [
    "A Catalog contains entries, which we can access by iteration:\n",
    "\n",
    "```\n",
    "for entry in catalog:\n",
    "    ...\n",
    "```\n",
    "\n",
    "or individually by name:\n",
    "\n",
    "```\n",
    "entry = catalog[entry_name]\n",
    "```\n",
    "\n",
    "For small Catalogs, it is convenient to ``list`` their contents."
   ]
  },
  {
   "cell_type": "code",
   "execution_count": 4,
   "metadata": {},
   "outputs": [
    {
     "data": {
      "text/plain": [
       "['xyz']"
      ]
     },
     "execution_count": 4,
     "metadata": {},
     "output_type": "execute_result"
    }
   ],
   "source": [
    "list(facility_catalog)"
   ]
  },
  {
   "cell_type": "markdown",
   "metadata": {},
   "source": [
    "The ``facility_catalog`` contains a catalog for each beamline. Let's access the ``xyz`` entry, which is also a Catalog."
   ]
  },
  {
   "cell_type": "code",
   "execution_count": 5,
   "metadata": {},
   "outputs": [
    {
     "data": {
      "text/plain": [
       "<Intake catalog: xyz>"
      ]
     },
     "execution_count": 5,
     "metadata": {},
     "output_type": "execute_result"
    }
   ],
   "source": [
    "cat = facility_catalog['xyz']()\n",
    "cat"
   ]
  },
  {
   "cell_type": "markdown",
   "metadata": {},
   "source": [
    "Each entry in this Catalog represents one scan. There are too many to list them all. (We could _try_ but it would take a long time and probably run out of memory.)\n",
    "\n",
    "We can find scans of interest in a couple ways.\n",
    "\n",
    "## Progressive Search\n",
    "\n",
    "We can search ``cat`` by passing it a Mongo Query. The result is another Catalog, with a subset of the entries in ``cat``."
   ]
  },
  {
   "cell_type": "code",
   "execution_count": 6,
   "metadata": {},
   "outputs": [
    {
     "data": {
      "text/plain": [
       "<Intake catalog: None>"
      ]
     },
     "execution_count": 6,
     "metadata": {},
     "output_type": "execute_result"
    }
   ],
   "source": [
    "search_results = cat.search({'plan_name': 'scan'})\n",
    "search_results"
   ]
  },
  {
   "cell_type": "markdown",
   "metadata": {},
   "source": [
    "We can progressively serach, generating yet another Catalog."
   ]
  },
  {
   "cell_type": "code",
   "execution_count": 7,
   "metadata": {},
   "outputs": [
    {
     "data": {
      "text/plain": [
       "<Intake catalog: None>"
      ]
     },
     "execution_count": 7,
     "metadata": {},
     "output_type": "execute_result"
    }
   ],
   "source": [
    "import time\n",
    "recent_counts = search_results.search({'time': {'$gt': time.time() - 60 * 60 * 24}})\n",
    "recent_counts"
   ]
  },
  {
   "cell_type": "markdown",
   "metadata": {},
   "source": [
    "Having narrowed the results to a small Catalog, we can list them."
   ]
  },
  {
   "cell_type": "code",
   "execution_count": 8,
   "metadata": {},
   "outputs": [
    {
     "data": {
      "text/plain": [
       "['446be272-9bb3-4480-90e8-a0899587fa65',\n",
       " 'bb640ef9-b3e8-443c-b4b1-6f98dc5af7a0',\n",
       " 'a2c1e7c3-e194-45cc-b853-fd3089d0782c',\n",
       " '5f6a3669-8724-4673-9d45-d7be80c40522']"
      ]
     },
     "execution_count": 8,
     "metadata": {},
     "output_type": "execute_result"
    }
   ],
   "source": [
    "list(recent_counts)"
   ]
  },
  {
   "cell_type": "markdown",
   "metadata": {},
   "source": [
    "## Random access"
   ]
  },
  {
   "cell_type": "markdown",
   "metadata": {},
   "source": [
    "We can access entries by their unique ID \"name\" as in:"
   ]
  },
  {
   "cell_type": "code",
   "execution_count": 9,
   "metadata": {},
   "outputs": [
    {
     "data": {
      "text/plain": [
       "<Catalog Entry: bb640ef9-b3e8-443c-b4b1-6f98dc5af7a0>"
      ]
     },
     "execution_count": 9,
     "metadata": {},
     "output_type": "execute_result"
    }
   ],
   "source": [
    "cat['bb640ef9-b3e8-443c-b4b1-6f98dc5af7a0']"
   ]
  },
  {
   "cell_type": "markdown",
   "metadata": {},
   "source": [
    "We can also access entries by *recency* with this syntactic sugar:"
   ]
  },
  {
   "cell_type": "code",
   "execution_count": 10,
   "metadata": {},
   "outputs": [],
   "source": [
    "entry = recent_counts[-1]"
   ]
  },
  {
   "cell_type": "markdown",
   "metadata": {},
   "source": [
    "## Metadata"
   ]
  },
  {
   "cell_type": "markdown",
   "metadata": {},
   "source": [
    "The entry's metadata is available via ``entry.metadata``. Notice that this includes ``entry.metadata.start`` and ``entry.metadata.stop``, the documents generated at the beginning and end of the corresponding scan."
   ]
  },
  {
   "cell_type": "code",
   "execution_count": 11,
   "metadata": {},
   "outputs": [
    {
     "data": {
      "text/plain": [
       "{'cache': None,\n",
       " 'catalog_dir': None,\n",
       " 'start': {'uid': '446be272-9bb3-4480-90e8-a0899587fa65',\n",
       "  'time': 1543877944.73986,\n",
       "  'scan_id': 1,\n",
       "  'plan_type': 'generator',\n",
       "  'plan_name': 'scan',\n",
       "  'detectors': ['det'],\n",
       "  'motors': ['motor'],\n",
       "  'num_points': 20,\n",
       "  'num_intervals': 19,\n",
       "  'plan_args': {'detectors': [\"SynGauss(name='det', value=1.0, timestamp=1543877944.721153)\"],\n",
       "   'num': 20,\n",
       "   'args': [\"SynAxis(prefix='', name='motor', read_attrs=['readback', 'setpoint'], configuration_attrs=['velocity', 'acceleration'])\",\n",
       "    -1,\n",
       "    1],\n",
       "   'per_step': 'None'},\n",
       "  'hints': {'dimensions': [[['motor'], 'primary']]},\n",
       "  'plan_pattern': 'inner_product',\n",
       "  'plan_pattern_module': 'bluesky.plan_patterns',\n",
       "  'plan_pattern_args': {'num': 20,\n",
       "   'args': [\"SynAxis(prefix='', name='motor', read_attrs=['readback', 'setpoint'], configuration_attrs=['velocity', 'acceleration'])\",\n",
       "    -1,\n",
       "    1]}},\n",
       " 'stop': {'run_start': '446be272-9bb3-4480-90e8-a0899587fa65',\n",
       "  'time': 1543877944.801445,\n",
       "  'uid': 'eeb566f1-eeab-4730-9c5a-cea2cc88a9b8',\n",
       "  'exit_status': 'success',\n",
       "  'reason': '',\n",
       "  'num_events': {'baseline': 2, 'primary': 20}},\n",
       " 'dims': {'time': 22},\n",
       " 'data_vars': {'motor': ['time'], 'motor_setpoint': ['time'], 'det': ['time']},\n",
       " 'coords': ['time'],\n",
       " 'internal': {'.zgroup': b'{\\n    \"zarr_format\": 2\\n}',\n",
       "  '.zattrs': b'{}',\n",
       "  'time/.zarray': b'{\\n    \"chunks\": [\\n        22\\n    ],\\n    \"compressor\": {\\n        \"id\": \"zlib\",\\n        \"level\": 1\\n    },\\n    \"dtype\": \"<f8\",\\n    \"fill_value\": \"NaN\",\\n    \"filters\": null,\\n    \"order\": \"C\",\\n    \"shape\": [\\n        22\\n    ],\\n    \"zarr_format\": 2\\n}',\n",
       "  'time/.zattrs': b'{\\n    \"_ARRAY_DIMENSIONS\": [\\n        \"time\"\\n    ]\\n}',\n",
       "  'motor/.zarray': b'{\\n    \"chunks\": [\\n        22\\n    ],\\n    \"compressor\": {\\n        \"id\": \"zlib\",\\n        \"level\": 1\\n    },\\n    \"dtype\": \"<f8\",\\n    \"fill_value\": \"NaN\",\\n    \"filters\": null,\\n    \"order\": \"C\",\\n    \"shape\": [\\n        22\\n    ],\\n    \"zarr_format\": 2\\n}',\n",
       "  'motor/.zattrs': b'{\\n    \"_ARRAY_DIMENSIONS\": [\\n        \"time\"\\n    ]\\n}',\n",
       "  'motor_setpoint/.zarray': b'{\\n    \"chunks\": [\\n        22\\n    ],\\n    \"compressor\": {\\n        \"id\": \"zlib\",\\n        \"level\": 1\\n    },\\n    \"dtype\": \"<f8\",\\n    \"fill_value\": \"NaN\",\\n    \"filters\": null,\\n    \"order\": \"C\",\\n    \"shape\": [\\n        22\\n    ],\\n    \"zarr_format\": 2\\n}',\n",
       "  'motor_setpoint/.zattrs': b'{\\n    \"_ARRAY_DIMENSIONS\": [\\n        \"time\"\\n    ]\\n}',\n",
       "  'det/.zarray': b'{\\n    \"chunks\": [\\n        22\\n    ],\\n    \"compressor\": {\\n        \"id\": \"zlib\",\\n        \"level\": 1\\n    },\\n    \"dtype\": \"<f8\",\\n    \"fill_value\": \"NaN\",\\n    \"filters\": null,\\n    \"order\": \"C\",\\n    \"shape\": [\\n        22\\n    ],\\n    \"zarr_format\": 2\\n}',\n",
       "  'det/.zattrs': b'{\\n    \"_ARRAY_DIMENSIONS\": [\\n        \"time\"\\n    ]\\n}'}}"
      ]
     },
     "execution_count": 11,
     "metadata": {},
     "output_type": "execute_result"
    }
   ],
   "source": [
    "entry.metadata"
   ]
  },
  {
   "cell_type": "markdown",
   "metadata": {},
   "source": [
    "### Accessing Data\n",
    "\n",
    "We can pull the data all at once:"
   ]
  },
  {
   "cell_type": "code",
   "execution_count": 12,
   "metadata": {},
   "outputs": [],
   "source": [
    "# entry.read()  # an xarray of numpy.arrays -- BROKEN"
   ]
  },
  {
   "cell_type": "markdown",
   "metadata": {},
   "source": [
    "Or in chunks:"
   ]
  },
  {
   "cell_type": "code",
   "execution_count": 13,
   "metadata": {},
   "outputs": [],
   "source": [
    "# entry.read_chunked()  # a generator of xarrays of numpy arrays -- BROKEN"
   ]
  },
  {
   "cell_type": "markdown",
   "metadata": {},
   "source": [
    "Or lazily, using dask:"
   ]
  },
  {
   "cell_type": "code",
   "execution_count": 14,
   "metadata": {},
   "outputs": [
    {
     "data": {
      "text/plain": [
       "<xarray.Dataset>\n",
       "Dimensions:         (time: 22)\n",
       "Coordinates:\n",
       "  * time            (time) float64 1.544e+09 1.544e+09 ... 1.544e+09 1.544e+09\n",
       "Data variables:\n",
       "    det             (time) float64 dask.array<shape=(22,), chunksize=(22,)>\n",
       "    motor           (time) float64 dask.array<shape=(22,), chunksize=(22,)>\n",
       "    motor_setpoint  (time) float64 dask.array<shape=(22,), chunksize=(22,)>"
      ]
     },
     "execution_count": 14,
     "metadata": {},
     "output_type": "execute_result"
    }
   ],
   "source": [
    "entry.to_dask()  # an xarray of dask.arrays"
   ]
  },
  {
   "cell_type": "markdown",
   "metadata": {},
   "source": [
    "The above is quite clever. It will use dask to make calls to the server to pull the data when required --- for example, if we convert the data to a ``pandas.DataFrame``."
   ]
  },
  {
   "cell_type": "code",
   "execution_count": 15,
   "metadata": {},
   "outputs": [
    {
     "data": {
      "text/html": [
       "<div>\n",
       "<style scoped>\n",
       "    .dataframe tbody tr th:only-of-type {\n",
       "        vertical-align: middle;\n",
       "    }\n",
       "\n",
       "    .dataframe tbody tr th {\n",
       "        vertical-align: top;\n",
       "    }\n",
       "\n",
       "    .dataframe thead th {\n",
       "        text-align: right;\n",
       "    }\n",
       "</style>\n",
       "<table border=\"1\" class=\"dataframe\">\n",
       "  <thead>\n",
       "    <tr style=\"text-align: right;\">\n",
       "      <th></th>\n",
       "      <th>det</th>\n",
       "      <th>motor</th>\n",
       "      <th>motor_setpoint</th>\n",
       "    </tr>\n",
       "    <tr>\n",
       "      <th>time</th>\n",
       "      <th></th>\n",
       "      <th></th>\n",
       "      <th></th>\n",
       "    </tr>\n",
       "  </thead>\n",
       "  <tbody>\n",
       "    <tr>\n",
       "      <th>1.543878e+09</th>\n",
       "      <td>NaN</td>\n",
       "      <td>0.000000</td>\n",
       "      <td>0.000000</td>\n",
       "    </tr>\n",
       "    <tr>\n",
       "      <th>1.543878e+09</th>\n",
       "      <td>0.606531</td>\n",
       "      <td>-1.000000</td>\n",
       "      <td>-1.000000</td>\n",
       "    </tr>\n",
       "    <tr>\n",
       "      <th>1.543878e+09</th>\n",
       "      <td>0.670134</td>\n",
       "      <td>-0.894737</td>\n",
       "      <td>-0.894737</td>\n",
       "    </tr>\n",
       "    <tr>\n",
       "      <th>1.543878e+09</th>\n",
       "      <td>0.732249</td>\n",
       "      <td>-0.789474</td>\n",
       "      <td>-0.789474</td>\n",
       "    </tr>\n",
       "    <tr>\n",
       "      <th>1.543878e+09</th>\n",
       "      <td>0.791305</td>\n",
       "      <td>-0.684211</td>\n",
       "      <td>-0.684211</td>\n",
       "    </tr>\n",
       "    <tr>\n",
       "      <th>1.543878e+09</th>\n",
       "      <td>0.845700</td>\n",
       "      <td>-0.578947</td>\n",
       "      <td>-0.578947</td>\n",
       "    </tr>\n",
       "    <tr>\n",
       "      <th>1.543878e+09</th>\n",
       "      <td>0.893876</td>\n",
       "      <td>-0.473684</td>\n",
       "      <td>-0.473684</td>\n",
       "    </tr>\n",
       "    <tr>\n",
       "      <th>1.543878e+09</th>\n",
       "      <td>0.934385</td>\n",
       "      <td>-0.368421</td>\n",
       "      <td>-0.368421</td>\n",
       "    </tr>\n",
       "    <tr>\n",
       "      <th>1.543878e+09</th>\n",
       "      <td>0.965967</td>\n",
       "      <td>-0.263158</td>\n",
       "      <td>-0.263158</td>\n",
       "    </tr>\n",
       "    <tr>\n",
       "      <th>1.543878e+09</th>\n",
       "      <td>0.987612</td>\n",
       "      <td>-0.157895</td>\n",
       "      <td>-0.157895</td>\n",
       "    </tr>\n",
       "    <tr>\n",
       "      <th>1.543878e+09</th>\n",
       "      <td>0.998616</td>\n",
       "      <td>-0.052632</td>\n",
       "      <td>-0.052632</td>\n",
       "    </tr>\n",
       "    <tr>\n",
       "      <th>1.543878e+09</th>\n",
       "      <td>0.998616</td>\n",
       "      <td>0.052632</td>\n",
       "      <td>0.052632</td>\n",
       "    </tr>\n",
       "    <tr>\n",
       "      <th>1.543878e+09</th>\n",
       "      <td>0.987612</td>\n",
       "      <td>0.157895</td>\n",
       "      <td>0.157895</td>\n",
       "    </tr>\n",
       "    <tr>\n",
       "      <th>1.543878e+09</th>\n",
       "      <td>0.965967</td>\n",
       "      <td>0.263158</td>\n",
       "      <td>0.263158</td>\n",
       "    </tr>\n",
       "    <tr>\n",
       "      <th>1.543878e+09</th>\n",
       "      <td>0.934385</td>\n",
       "      <td>0.368421</td>\n",
       "      <td>0.368421</td>\n",
       "    </tr>\n",
       "    <tr>\n",
       "      <th>1.543878e+09</th>\n",
       "      <td>0.893876</td>\n",
       "      <td>0.473684</td>\n",
       "      <td>0.473684</td>\n",
       "    </tr>\n",
       "    <tr>\n",
       "      <th>1.543878e+09</th>\n",
       "      <td>0.845700</td>\n",
       "      <td>0.578947</td>\n",
       "      <td>0.578947</td>\n",
       "    </tr>\n",
       "    <tr>\n",
       "      <th>1.543878e+09</th>\n",
       "      <td>0.791305</td>\n",
       "      <td>0.684211</td>\n",
       "      <td>0.684211</td>\n",
       "    </tr>\n",
       "    <tr>\n",
       "      <th>1.543878e+09</th>\n",
       "      <td>0.732249</td>\n",
       "      <td>0.789474</td>\n",
       "      <td>0.789474</td>\n",
       "    </tr>\n",
       "    <tr>\n",
       "      <th>1.543878e+09</th>\n",
       "      <td>0.670134</td>\n",
       "      <td>0.894737</td>\n",
       "      <td>0.894737</td>\n",
       "    </tr>\n",
       "    <tr>\n",
       "      <th>1.543878e+09</th>\n",
       "      <td>0.606531</td>\n",
       "      <td>1.000000</td>\n",
       "      <td>1.000000</td>\n",
       "    </tr>\n",
       "    <tr>\n",
       "      <th>1.543878e+09</th>\n",
       "      <td>NaN</td>\n",
       "      <td>1.000000</td>\n",
       "      <td>1.000000</td>\n",
       "    </tr>\n",
       "  </tbody>\n",
       "</table>\n",
       "</div>"
      ],
      "text/plain": [
       "                   det     motor  motor_setpoint\n",
       "time                                            \n",
       "1.543878e+09       NaN  0.000000        0.000000\n",
       "1.543878e+09  0.606531 -1.000000       -1.000000\n",
       "1.543878e+09  0.670134 -0.894737       -0.894737\n",
       "1.543878e+09  0.732249 -0.789474       -0.789474\n",
       "1.543878e+09  0.791305 -0.684211       -0.684211\n",
       "1.543878e+09  0.845700 -0.578947       -0.578947\n",
       "1.543878e+09  0.893876 -0.473684       -0.473684\n",
       "1.543878e+09  0.934385 -0.368421       -0.368421\n",
       "1.543878e+09  0.965967 -0.263158       -0.263158\n",
       "1.543878e+09  0.987612 -0.157895       -0.157895\n",
       "1.543878e+09  0.998616 -0.052632       -0.052632\n",
       "1.543878e+09  0.998616  0.052632        0.052632\n",
       "1.543878e+09  0.987612  0.157895        0.157895\n",
       "1.543878e+09  0.965967  0.263158        0.263158\n",
       "1.543878e+09  0.934385  0.368421        0.368421\n",
       "1.543878e+09  0.893876  0.473684        0.473684\n",
       "1.543878e+09  0.845700  0.578947        0.578947\n",
       "1.543878e+09  0.791305  0.684211        0.684211\n",
       "1.543878e+09  0.732249  0.789474        0.789474\n",
       "1.543878e+09  0.670134  0.894737        0.894737\n",
       "1.543878e+09  0.606531  1.000000        1.000000\n",
       "1.543878e+09       NaN  1.000000        1.000000"
      ]
     },
     "execution_count": 15,
     "metadata": {},
     "output_type": "execute_result"
    }
   ],
   "source": [
    "entry.to_dask().to_dataframe()"
   ]
  },
  {
   "cell_type": "code",
   "execution_count": null,
   "metadata": {},
   "outputs": [],
   "source": []
  }
 ],
 "metadata": {
  "kernelspec": {
   "display_name": "Python 3",
   "language": "python",
   "name": "python3"
  },
  "language_info": {
   "codemirror_mode": {
    "name": "ipython",
    "version": 3
   },
   "file_extension": ".py",
   "mimetype": "text/x-python",
   "name": "python",
   "nbconvert_exporter": "python",
   "pygments_lexer": "ipython3",
   "version": "3.7.1"
  }
 },
 "nbformat": 4,
 "nbformat_minor": 2
}
